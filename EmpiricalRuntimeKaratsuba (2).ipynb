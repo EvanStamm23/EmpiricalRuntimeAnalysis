{
  "cells": [
    {
      "cell_type": "markdown",
      "id": "77af9cf9-4c72-471b-8914-74b04304c5b1",
      "metadata": {},
      "source": [
        "# Empirical Runtime Analysis of Karatsuba\n",
        "## Evan Stamm"
      ]
    },
    {
      "cell_type": "markdown",
      "id": "98f5c012-0d37-4b63-a4f8-12414878ed77",
      "metadata": {},
      "source": [
        "### Prerequisite Packages\n",
        "\n",
        "We will be using numpy, matplotlib library in this jupyter notebook."
      ]
    },
    {
      "cell_type": "code",
      "execution_count": 1,
      "id": "10fa1ba7-2c22-4a8d-acca-c0c74145906e",
      "metadata": {
        "scrolled": true,
        "trusted": true
      },
      "outputs": [
        {
          "name": "stdout",
          "output_type": "stream",
          "text": [
            "Collecting numpy\n",
            "  Downloading numpy-1.26.4-cp310-cp310-win_amd64.whl.metadata (61 kB)\n",
            "     ---------------------------------------- 0.0/61.0 kB ? eta -:--:--\n",
            "     --------------------------------- ------ 51.2/61.0 kB 2.7 MB/s eta 0:00:01\n",
            "     ---------------------------------------- 61.0/61.0 kB 1.1 MB/s eta 0:00:00\n",
            "Downloading numpy-1.26.4-cp310-cp310-win_amd64.whl (15.8 MB)\n",
            "   ---------------------------------------- 0.0/15.8 MB ? eta -:--:--\n",
            "    --------------------------------------- 0.2/15.8 MB 4.1 MB/s eta 0:00:04\n",
            "    --------------------------------------- 0.4/15.8 MB 4.0 MB/s eta 0:00:04\n",
            "   -- ------------------------------------- 0.9/15.8 MB 6.0 MB/s eta 0:00:03\n",
            "   --- ------------------------------------ 1.5/15.8 MB 8.2 MB/s eta 0:00:02\n",
            "   --- ------------------------------------ 1.5/15.8 MB 8.2 MB/s eta 0:00:02\n",
            "   ------ --------------------------------- 2.6/15.8 MB 8.3 MB/s eta 0:00:02\n",
            "   --------- ------------------------------ 3.8/15.8 MB 11.0 MB/s eta 0:00:02\n",
            "   ----------- ---------------------------- 4.5/15.8 MB 11.5 MB/s eta 0:00:01\n",
            "   ------------- -------------------------- 5.3/15.8 MB 12.0 MB/s eta 0:00:01\n",
            "   --------------- ------------------------ 6.0/15.8 MB 12.4 MB/s eta 0:00:01\n",
            "   ---------------- ----------------------- 6.7/15.8 MB 12.3 MB/s eta 0:00:01\n",
            "   ----------------- ---------------------- 6.9/15.8 MB 12.2 MB/s eta 0:00:01\n",
            "   ----------------- ---------------------- 7.0/15.8 MB 11.1 MB/s eta 0:00:01\n",
            "   -------------------- ------------------- 8.2/15.8 MB 11.8 MB/s eta 0:00:01\n",
            "   --------------------- ------------------ 8.5/15.8 MB 11.4 MB/s eta 0:00:01\n",
            "   ----------------------- ---------------- 9.2/15.8 MB 11.5 MB/s eta 0:00:01\n",
            "   ------------------------ --------------- 9.9/15.8 MB 11.7 MB/s eta 0:00:01\n",
            "   -------------------------- ------------- 10.5/15.8 MB 12.4 MB/s eta 0:00:01\n",
            "   ---------------------------- ----------- 11.1/15.8 MB 13.1 MB/s eta 0:00:01\n",
            "   ----------------------------- ---------- 11.7/15.8 MB 12.8 MB/s eta 0:00:01\n",
            "   ------------------------------- -------- 12.4/15.8 MB 13.6 MB/s eta 0:00:01\n",
            "   -------------------------------- ------- 13.0/15.8 MB 13.1 MB/s eta 0:00:01\n",
            "   ---------------------------------- ----- 13.6/15.8 MB 12.6 MB/s eta 0:00:01\n",
            "   ------------------------------------ --- 14.3/15.8 MB 12.6 MB/s eta 0:00:01\n",
            "   ------------------------------------- -- 14.9/15.8 MB 12.1 MB/s eta 0:00:01\n",
            "   -------------------------------------- - 15.1/15.8 MB 12.4 MB/s eta 0:00:01\n",
            "   -------------------------------------- - 15.1/15.8 MB 11.1 MB/s eta 0:00:01\n",
            "   ---------------------------------------  15.7/15.8 MB 10.9 MB/s eta 0:00:01\n",
            "   ---------------------------------------  15.8/15.8 MB 10.7 MB/s eta 0:00:01\n",
            "   ---------------------------------------- 15.8/15.8 MB 10.1 MB/s eta 0:00:00\n",
            "Installing collected packages: numpy\n",
            "Successfully installed numpy-1.26.4\n",
            "Collecting matplotlib\n",
            "  Downloading matplotlib-3.8.3-cp310-cp310-win_amd64.whl.metadata (5.9 kB)\n",
            "Collecting contourpy>=1.0.1 (from matplotlib)\n",
            "  Downloading contourpy-1.2.0-cp310-cp310-win_amd64.whl.metadata (5.8 kB)\n",
            "Collecting cycler>=0.10 (from matplotlib)\n",
            "  Downloading cycler-0.12.1-py3-none-any.whl.metadata (3.8 kB)\n",
            "Collecting fonttools>=4.22.0 (from matplotlib)\n",
            "  Downloading fonttools-4.49.0-cp310-cp310-win_amd64.whl.metadata (162 kB)\n",
            "     ---------------------------------------- 0.0/162.3 kB ? eta -:--:--\n",
            "     ---------------------- ---------------- 92.2/162.3 kB 2.6 MB/s eta 0:00:01\n",
            "     ----------------------------------- -- 153.6/162.3 kB 1.8 MB/s eta 0:00:01\n",
            "     -------------------------------------- 162.3/162.3 kB 1.6 MB/s eta 0:00:00\n",
            "Collecting kiwisolver>=1.3.1 (from matplotlib)\n",
            "  Downloading kiwisolver-1.4.5-cp310-cp310-win_amd64.whl.metadata (6.5 kB)\n",
            "Requirement already satisfied: numpy<2,>=1.21 in c:\\users\\evans\\appdata\\local\\packages\\pythonsoftwarefoundation.python.3.10_qbz5n2kfra8p0\\localcache\\local-packages\\python310\\site-packages (from matplotlib) (1.26.4)\n",
            "Requirement already satisfied: packaging>=20.0 in c:\\users\\evans\\appdata\\local\\packages\\pythonsoftwarefoundation.python.3.10_qbz5n2kfra8p0\\localcache\\local-packages\\python310\\site-packages (from matplotlib) (23.2)\n",
            "Requirement already satisfied: pillow>=8 in c:\\users\\evans\\appdata\\local\\packages\\pythonsoftwarefoundation.python.3.10_qbz5n2kfra8p0\\localcache\\local-packages\\python310\\site-packages (from matplotlib) (9.5.0)\n",
            "Collecting pyparsing>=2.3.1 (from matplotlib)\n",
            "  Downloading pyparsing-3.1.1-py3-none-any.whl.metadata (5.1 kB)\n",
            "Requirement already satisfied: python-dateutil>=2.7 in c:\\users\\evans\\appdata\\local\\packages\\pythonsoftwarefoundation.python.3.10_qbz5n2kfra8p0\\localcache\\local-packages\\python310\\site-packages (from matplotlib) (2.8.2)\n",
            "Requirement already satisfied: six>=1.5 in c:\\users\\evans\\appdata\\local\\packages\\pythonsoftwarefoundation.python.3.10_qbz5n2kfra8p0\\localcache\\local-packages\\python310\\site-packages (from python-dateutil>=2.7->matplotlib) (1.16.0)\n",
            "Downloading matplotlib-3.8.3-cp310-cp310-win_amd64.whl (7.6 MB)\n",
            "   ---------------------------------------- 0.0/7.6 MB ? eta -:--:--\n",
            "   - -------------------------------------- 0.3/7.6 MB 5.7 MB/s eta 0:00:02\n",
            "   --- ------------------------------------ 0.7/7.6 MB 6.9 MB/s eta 0:00:02\n",
            "   ----- ---------------------------------- 1.1/7.6 MB 7.6 MB/s eta 0:00:01\n",
            "   ----- ---------------------------------- 1.1/7.6 MB 7.6 MB/s eta 0:00:01\n",
            "   ------ --------------------------------- 1.2/7.6 MB 5.2 MB/s eta 0:00:02\n",
            "   ------- -------------------------------- 1.5/7.6 MB 5.4 MB/s eta 0:00:02\n",
            "   --------- ------------------------------ 1.9/7.6 MB 5.5 MB/s eta 0:00:02\n",
            "   ------------ --------------------------- 2.3/7.6 MB 6.0 MB/s eta 0:00:01\n",
            "   -------------- ------------------------- 2.8/7.6 MB 6.4 MB/s eta 0:00:01\n",
            "   ----------------- ---------------------- 3.3/7.6 MB 7.0 MB/s eta 0:00:01\n",
            "   ------------------- -------------------- 3.7/7.6 MB 7.2 MB/s eta 0:00:01\n",
            "   ---------------------- ----------------- 4.2/7.6 MB 7.5 MB/s eta 0:00:01\n",
            "   ------------------------- -------------- 4.8/7.6 MB 7.9 MB/s eta 0:00:01\n",
            "   ---------------------------- ----------- 5.4/7.6 MB 8.4 MB/s eta 0:00:01\n",
            "   ------------------------------- -------- 6.1/7.6 MB 8.9 MB/s eta 0:00:01\n",
            "   ----------------------------------- ---- 6.8/7.6 MB 9.0 MB/s eta 0:00:01\n",
            "   -------------------------------------- - 7.4/7.6 MB 9.3 MB/s eta 0:00:01\n",
            "   ---------------------------------------  7.6/7.6 MB 9.4 MB/s eta 0:00:01\n",
            "   ---------------------------------------- 7.6/7.6 MB 8.9 MB/s eta 0:00:00\n",
            "Downloading contourpy-1.2.0-cp310-cp310-win_amd64.whl (186 kB)\n",
            "   ---------------------------------------- 0.0/186.7 kB ? eta -:--:--\n",
            "   --------------------------------------- 186.7/186.7 kB 11.0 MB/s eta 0:00:00\n",
            "Downloading cycler-0.12.1-py3-none-any.whl (8.3 kB)\n",
            "Downloading fonttools-4.49.0-cp310-cp310-win_amd64.whl (2.2 MB)\n",
            "   ---------------------------------------- 0.0/2.2 MB ? eta -:--:--\n",
            "   ------------ --------------------------- 0.7/2.2 MB 22.1 MB/s eta 0:00:01\n",
            "   -------------------------- ------------- 1.4/2.2 MB 15.3 MB/s eta 0:00:01\n",
            "   ---------------------------------------  2.2/2.2 MB 15.4 MB/s eta 0:00:01\n",
            "   ---------------------------------------- 2.2/2.2 MB 12.7 MB/s eta 0:00:00\n",
            "Downloading kiwisolver-1.4.5-cp310-cp310-win_amd64.whl (56 kB)\n",
            "   ---------------------------------------- 0.0/56.1 kB ? eta -:--:--\n",
            "   ---------------------------------------- 56.1/56.1 kB 2.9 MB/s eta 0:00:00\n",
            "Downloading pyparsing-3.1.1-py3-none-any.whl (103 kB)\n",
            "   ---------------------------------------- 0.0/103.1 kB ? eta -:--:--\n",
            "   ---------------------------------------- 103.1/103.1 kB 5.8 MB/s eta 0:00:00\n",
            "Installing collected packages: pyparsing, kiwisolver, fonttools, cycler, contourpy, matplotlib\n",
            "Successfully installed contourpy-1.2.0 cycler-0.12.1 fonttools-4.49.0 kiwisolver-1.4.5 matplotlib-3.8.3 pyparsing-3.1.1\n"
          ]
        }
      ],
      "source": [
        "# Install all the prerequisite packages from the Terminal\n",
        "!pip install numpy\n",
        "!pip install matplotlib"
      ]
    },
    {
      "cell_type": "code",
      "execution_count": 2,
      "id": "100c02b7-e921-419c-b213-d7442d839c31",
      "metadata": {
        "trusted": true
      },
      "outputs": [],
      "source": [
        "import time\n",
        "import numpy as np\n",
        "import matplotlib.pyplot as plt\n",
        "import copy"
      ]
    },
    {
      "cell_type": "markdown",
      "id": "646cbaff-e9c8-4aea-91c3-b137d3a72925",
      "metadata": {},
      "source": [
        "## Insertion Sort with Print Statements"
      ]
    },
    {
      "cell_type": "code",
      "execution_count": 3,
      "id": "239bf34a-dcae-49e4-9f00-a933043b8540",
      "metadata": {
        "trusted": true
      },
      "outputs": [],
      "source": [
        "#Evan Stamm Implementation of Karatsuba Algorithm\n",
        "\n",
        "#Default input is a set of two 64 digit numbers\n",
        "A = 3141592653589793238462643383279502884197169399375105820974944592\n",
        "B = 2718281828459045235360287471352662497757247093699959574966967627\n",
        "\n",
        "def karatsuba(inputA, inputB):\n",
        "    #find # of digits (assuming inputs are the same size, positive ints)\n",
        "    n = len(str(inputA))\n",
        "    #base case, we invoke multiplication operator only on 1 digit numbers \n",
        "    if(n == 1):\n",
        "        return (int(inputA) * int(inputB))\n",
        "    middle = n // 2\n",
        "    \n",
        "    #Divide both input numbers into left and right parts\n",
        "    A_left = inputA // 10**(middle)\n",
        "    A_right = inputA % 10**(middle)\n",
        "\n",
        "    B_left = inputB // 10**(middle)\n",
        "    B_right = inputB % 10**(middle)\n",
        "    \n",
        "    #compute \n",
        "    left_prod = karatsuba(A_left, B_left)\n",
        "    right_prod = karatsuba(A_right, B_right)\n",
        "    sum_prod = karatsuba((A_left + A_right), (B_left + B_right))\n",
        "\n",
        "    return (left_prod*(10**(2*middle)) + ((sum_prod - left_prod - right_prod)*(10**(middle))) + right_prod)"
      ]
    },
    {
      "cell_type": "markdown",
      "id": "d507e41a-620a-488a-9d11-2000d4e06b8d",
      "metadata": {},
      "source": [
        "## Check for Correctness"
      ]
    },
    {
      "cell_type": "code",
      "execution_count": 5,
      "id": "e078b709-bce5-4594-bf41-09bf020ba223",
      "metadata": {
        "trusted": true
      },
      "outputs": [
        {
          "name": "stdout",
          "output_type": "stream",
          "text": [
            "Result using karatsuba: 8539734222673567065463550869546574495034888535765114961879601127067743044893204848617875072216249073013374895871952806582723184\n",
            "Result using python multiplication: 8539734222673567065463550869546574495034888535765114961879601127067743044893204848617875072216249073013374895871952806582723184\n",
            "30103073\n",
            "30103073\n"
          ]
        }
      ],
      "source": [
        "#Check using defualt input (64 digit number)\n",
        "print(\"Result using karatsuba:\", karatsuba(A, B))\n",
        "print(\"Result using python multiplication:\", A*B)"
      ]
    },
    {
      "cell_type": "markdown",
      "id": "87e915a7-570b-48f4-8ef0-88919799ccf6",
      "metadata": {},
      "source": [
        "## Plotting Run-Time Complexity"
      ]
    },
    {
      "cell_type": "code",
      "execution_count": 6,
      "id": "744384cb-d476-44ee-a54f-bd8e0665a13d",
      "metadata": {
        "trusted": true
      },
      "outputs": [],
      "source": [
        "# Generate a random number, specifically with n digits\n",
        "import random\n",
        "\n",
        "def generate_random_input(n):\n",
        "    low = 10**(n-1)\n",
        "    high = 10**n-1\n",
        "    int = random.randint(low, high)\n",
        "    return int"
      ]
    },
    {
      "cell_type": "markdown",
      "id": "1bb483ee-f8f4-4190-8007-49c13edaf63e",
      "metadata": {},
      "source": [
        "## Test our random function"
      ]
    },
    {
      "cell_type": "code",
      "execution_count": 7,
      "id": "261a38ca-b38c-4ec3-869e-aae1b9be4c48",
      "metadata": {
        "trusted": true
      },
      "outputs": [
        {
          "name": "stdout",
          "output_type": "stream",
          "text": [
            "2\n",
            "88\n",
            "8901523110761292703374841264478510071588081193776307387801146196130852453318916369659084233389283225\n"
          ]
        }
      ],
      "source": [
        "# Try different sizes of n, which should match number of digits\n",
        "print(generate_random_input(1))\n",
        "print(generate_random_input(2))\n",
        "print(generate_random_input(100))"
      ]
    },
    {
      "cell_type": "code",
      "execution_count": 17,
      "id": "5c0da2de-c815-48f1-87eb-56377fc36afc",
      "metadata": {
        "trusted": true
      },
      "outputs": [],
      "source": [
        "# Number of random arrays generated in this experiment\n",
        "monte_carlo_runs = 500\n",
        "\n",
        "# Range of digit sizes considered\n",
        "start_array = 5\n",
        "end_array = 200\n",
        "increments = 5\n",
        "\n",
        "# Initiate average and worst case run-time\n",
        "avg_time_taken = [0]*(end_array//increments)\n",
        "worst_time_taken = [0]*(end_array//increments)\n",
        "\n",
        "# Run-time experiments for random arrays of a given size\n",
        "count = 0\n",
        "for curr_size in range(start_array, end_array+1, increments):  \n",
        "    run_times = []\n",
        "    # Given a fixed array size, generate one random array and compute its run-time\n",
        "    for iteration in range(monte_carlo_runs):             \n",
        "        val1 = generate_random_input(curr_size)           #Generate 2 random values of the same size\n",
        "        val2 = generate_random_input(curr_size)\n",
        "        start = time.time()                               # Record state time\n",
        "        karatsuba(val1, val2)\n",
        "        end = time.time()                                 # Record end time\n",
        "        run_times.append(end - start)                     # Instantaneous ruun-time for a specific random input         \n",
        "\n",
        "    avg_time_taken[count] = sum(run_times)/len(run_times) # Empirical average of run-time\n",
        "    worst_time_taken[count] = max(run_times)              # Worst case run time across various random experiments\n",
        "    count += 1\n",
        "#print(avg_time_taken[10])"
      ]
    },
    {
      "cell_type": "code",
      "execution_count": 18,
      "id": "38634f8b-4474-4aa5-a147-1d6453adeaff",
      "metadata": {
        "trusted": true
      },
      "outputs": [
        {
          "data": {
            "image/png": "[encoded data removed]",
            "text/plain": [
              "<Figure size 640x480 with 1 Axes>"
            ]
          },
          "metadata": {},
          "output_type": "display_data"
        }
      ],
      "source": [
        "# Data Coordinates\n",
        "x = np.arange(start_array, end_array+1, increments)\n",
        "y = np.array(avg_time_taken)\n",
        "z = np.array(worst_time_taken)\n",
        "\n",
        "# Plot\n",
        "plt.plot(x,y,'b',label='Avg Run Time') \n",
        "plt.plot(x,z,'r',label='Worst Run Time') \n",
        "\n",
        "# Add Title\n",
        "plt.title(\"Karatsuba's Integer Multiplication\") \n",
        "\n",
        "# Add Axes Labels\n",
        "plt.xlabel(\"Size of Input\") \n",
        "plt.ylabel(\"Time Taken\") \n",
        "\n",
        "# Display\n",
        "plt.legend()\n",
        "plt.show()"
      ]
    },
    {
      "cell_type": "markdown",
      "id": "5b46add3-a6cc-4f1d-b2d6-59503eb2560b",
      "metadata": {},
      "source": [
        "### References\n",
        "1. [Big o cheat sheet](https://www.bigocheatsheet.com/)\n",
        "2. [Timeit example](https://www.geeksforgeeks.org/timeit-python-examples/)"
      ]
    }
  ],
  "metadata": {
    "kernelspec": {
      "display_name": "Python 3",
      "language": "python",
      "name": "python3"
    },
    "language_info": {
      "codemirror_mode": {
        "name": "ipython",
        "version": 3
      },
      "file_extension": ".py",
      "mimetype": "text/x-python",
      "name": "python",
      "nbconvert_exporter": "python",
      "pygments_lexer": "ipython3",
      "version": "3.10.11"
    }
  },
  "nbformat": 4,
  "nbformat_minor": 5
}
